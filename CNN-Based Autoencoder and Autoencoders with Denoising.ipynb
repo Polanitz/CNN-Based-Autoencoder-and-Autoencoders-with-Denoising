{
 "cells": [
  {
   "cell_type": "code",
   "execution_count": 1,
   "metadata": {
    "colab": {},
    "colab_type": "code",
    "id": "NkYb6c9XyXhI"
   },
   "outputs": [
    {
     "name": "stderr",
     "output_type": "stream",
     "text": [
      "Using TensorFlow backend.\n"
     ]
    }
   ],
   "source": [
    "from keras.datasets import cifar10 # subroutines for fetching the CIFAR-10 dataset\n",
    "from keras.models import Model # basic class for specifying and training a neural network\n",
    "from keras.layers import Input, Convolution2D, MaxPooling2D, Dense, Dropout, Flatten\n",
    "from keras.utils import np_utils # utilities for one-hot encoding of ground truth values\n",
    "import numpy as np\n",
    "import pandas as pd\n",
    "\n",
    "from keras.callbacks import EarlyStopping\n",
    "from keras.datasets import cifar10\n",
    "from keras.models import Sequential\n",
    "from keras.layers.core import Dense, Dropout, Flatten\n",
    "from keras.layers.convolutional import Conv2D\n",
    "from keras.optimizers import Adam\n",
    "from keras.layers.pooling import MaxPooling2D\n",
    "from keras.utils import to_categorical\n",
    "\n",
    "import os\n",
    "\n",
    "os.environ['KMP_DUPLICATE_LIB_OK']='True'\n",
    "\n",
    "\n",
    "#from __future__ import print_function"
   ]
  },
  {
   "cell_type": "markdown",
   "metadata": {
    "colab_type": "text",
    "id": "cqU200-Pyo5e"
   },
   "source": [
    "We will build an autoencoder based on the mnist (hand written digits) dataset."
   ]
  },
  {
   "cell_type": "code",
   "execution_count": 2,
   "metadata": {
    "colab": {
     "base_uri": "https://localhost:8080/",
     "height": 51
    },
    "colab_type": "code",
    "executionInfo": {
     "elapsed": 2368,
     "status": "ok",
     "timestamp": 1536049078471,
     "user": {
      "displayName": "Shahar Cohen",
      "photoUrl": "//lh4.googleusercontent.com/-2U_qQryj6xw/AAAAAAAAAAI/AAAAAAAAADQ/MGjwPY42BgU/s50-c-k-no/photo.jpg",
      "userId": "114907857355936904602"
     },
     "user_tz": -180
    },
    "id": "K75oEFLQyexd",
    "outputId": "e610a0b2-f80c-47c8-eead-b6bb7ee10c25"
   },
   "outputs": [],
   "source": [
    "from keras.datasets import mnist\n",
    "import numpy as np\n",
    "(x_train, _), (x_test, _) = mnist.load_data()"
   ]
  },
  {
   "cell_type": "markdown",
   "metadata": {
    "colab_type": "text",
    "id": "2A9LHIAWy7w1"
   },
   "source": [
    "We will perform some basic pre-processing.\n",
    "We will normalize all values between 0 and 1 and we will flatten the 28x28 images into vectors of size 784."
   ]
  },
  {
   "cell_type": "code",
   "execution_count": 3,
   "metadata": {
    "colab": {
     "base_uri": "https://localhost:8080/",
     "height": 51
    },
    "colab_type": "code",
    "executionInfo": {
     "elapsed": 645,
     "status": "ok",
     "timestamp": 1536049127583,
     "user": {
      "displayName": "Shahar Cohen",
      "photoUrl": "//lh4.googleusercontent.com/-2U_qQryj6xw/AAAAAAAAAAI/AAAAAAAAADQ/MGjwPY42BgU/s50-c-k-no/photo.jpg",
      "userId": "114907857355936904602"
     },
     "user_tz": -180
    },
    "id": "EbnEX7HUy2h3",
    "outputId": "876657ad-6cd9-4ee2-8962-7cc3aa01a745"
   },
   "outputs": [
    {
     "name": "stdout",
     "output_type": "stream",
     "text": [
      "(60000, 784)\n",
      "(10000, 784)\n"
     ]
    }
   ],
   "source": [
    "x_train = x_train.astype('float32') / 255.\n",
    "x_test = x_test.astype('float32') / 255.\n",
    "x_train = x_train.reshape((len(x_train), np.prod(x_train.shape[1:])))\n",
    "x_test = x_test.reshape((len(x_test), np.prod(x_test.shape[1:])))\n",
    "print(x_train.shape)\n",
    "print(x_test.shape)"
   ]
  },
  {
   "cell_type": "markdown",
   "metadata": {
    "colab_type": "text",
    "id": "eJVTkSwbzQ8P"
   },
   "source": [
    "We'll start simple, with a single fully-connected neural layer as encoder and as decoder"
   ]
  },
  {
   "cell_type": "code",
   "execution_count": 4,
   "metadata": {
    "colab": {},
    "colab_type": "code",
    "id": "4dphTdj3zSNd"
   },
   "outputs": [],
   "source": [
    "from keras.layers import Input, Dense\n",
    "from keras.models import Model\n",
    "\n",
    "\n",
    "encoding_dim = 32  # 32 floats -> compression of factor 24.5, assuming the input is 784 floats (28X28 digits)\n",
    "\n",
    "\n",
    "input_img = Input(shape=(784,))\n",
    "encoded = Dense(encoding_dim, activation='relu')(input_img)\n",
    "decoded = Dense(784, activation='sigmoid')(encoded)"
   ]
  },
  {
   "cell_type": "code",
   "execution_count": 5,
   "metadata": {
    "colab": {},
    "colab_type": "code",
    "id": "0BUUD0pYz0An"
   },
   "outputs": [],
   "source": [
    "# this model maps an input to its reconstruction\n",
    "autoencoder = Model(input_img, decoded)\n",
    "\n",
    "# this model maps an input to its encoded representation\n",
    "encoder = Model(input_img, encoded)\n",
    "\n",
    "# creating a decoder model\n",
    "# create a placeholder for an encoded (32-dimensional) input\n",
    "encoded_input = Input(shape=(encoding_dim,))\n",
    "# retrieve the last layer of the autoencoder model\n",
    "decoder_layer = autoencoder.layers[-1]\n",
    "# create the decoder model\n",
    "decoder = Model(encoded_input, decoder_layer(encoded_input))"
   ]
  },
  {
   "cell_type": "code",
   "execution_count": 6,
   "metadata": {},
   "outputs": [
    {
     "data": {
      "text/plain": [
       "<tf.Tensor 'input_2:0' shape=(?, 32) dtype=float32>"
      ]
     },
     "execution_count": 6,
     "metadata": {},
     "output_type": "execute_result"
    }
   ],
   "source": [
    "encoded_input"
   ]
  },
  {
   "cell_type": "code",
   "execution_count": 7,
   "metadata": {
    "colab": {
     "base_uri": "https://localhost:8080/",
     "height": 238
    },
    "colab_type": "code",
    "executionInfo": {
     "elapsed": 620,
     "status": "ok",
     "timestamp": 1536049258884,
     "user": {
      "displayName": "Shahar Cohen",
      "photoUrl": "//lh4.googleusercontent.com/-2U_qQryj6xw/AAAAAAAAAAI/AAAAAAAAADQ/MGjwPY42BgU/s50-c-k-no/photo.jpg",
      "userId": "114907857355936904602"
     },
     "user_tz": -180
    },
    "id": "SbshtRqF0AkP",
    "outputId": "457f10f7-3482-46a3-d144-067578039392"
   },
   "outputs": [
    {
     "name": "stdout",
     "output_type": "stream",
     "text": [
      "WARNING:tensorflow:From C:\\ProgramData\\Anaconda3\\lib\\site-packages\\tensorflow\\python\\ops\\nn_impl.py:180: add_dispatch_support.<locals>.wrapper (from tensorflow.python.ops.array_ops) is deprecated and will be removed in a future version.\n",
      "Instructions for updating:\n",
      "Use tf.where in 2.0, which has the same broadcast rule as np.where\n",
      "Model: \"model_1\"\n",
      "_________________________________________________________________\n",
      "Layer (type)                 Output Shape              Param #   \n",
      "=================================================================\n",
      "input_1 (InputLayer)         (None, 784)               0         \n",
      "_________________________________________________________________\n",
      "dense_1 (Dense)              (None, 32)                25120     \n",
      "_________________________________________________________________\n",
      "dense_2 (Dense)              (None, 784)               25872     \n",
      "=================================================================\n",
      "Total params: 50,992\n",
      "Trainable params: 50,992\n",
      "Non-trainable params: 0\n",
      "_________________________________________________________________\n"
     ]
    }
   ],
   "source": [
    "autoencoder.compile(optimizer='adadelta', loss='binary_crossentropy')\n",
    "autoencoder.summary()"
   ]
  },
  {
   "cell_type": "code",
   "execution_count": 8,
   "metadata": {
    "colab": {
     "base_uri": "https://localhost:8080/",
     "height": 731
    },
    "colab_type": "code",
    "executionInfo": {
     "elapsed": 36756,
     "status": "ok",
     "timestamp": 1536049342954,
     "user": {
      "displayName": "Shahar Cohen",
      "photoUrl": "//lh4.googleusercontent.com/-2U_qQryj6xw/AAAAAAAAAAI/AAAAAAAAADQ/MGjwPY42BgU/s50-c-k-no/photo.jpg",
      "userId": "114907857355936904602"
     },
     "user_tz": -180
    },
    "id": "g1RH8t2y0G5X",
    "outputId": "dc5f7a36-e939-4baa-8a74-5854f7ecb24e"
   },
   "outputs": [
    {
     "name": "stdout",
     "output_type": "stream",
     "text": [
      "WARNING:tensorflow:From C:\\ProgramData\\Anaconda3\\lib\\site-packages\\keras\\backend\\tensorflow_backend.py:422: The name tf.global_variables is deprecated. Please use tf.compat.v1.global_variables instead.\n",
      "\n",
      "Train on 60000 samples, validate on 10000 samples\n",
      "Epoch 1/20\n",
      "60000/60000 [==============================] - 3s 47us/step - loss: 0.6941 - val_loss: 0.6941\n",
      "Epoch 2/20\n",
      "60000/60000 [==============================] - 3s 45us/step - loss: 0.6939 - val_loss: 0.6939\n",
      "Epoch 3/20\n",
      "60000/60000 [==============================] - 3s 44us/step - loss: 0.6938 - val_loss: 0.6937\n",
      "Epoch 4/20\n",
      "60000/60000 [==============================] - 2s 41us/step - loss: 0.6936 - val_loss: 0.6936\n",
      "Epoch 5/20\n",
      "60000/60000 [==============================] - 2s 41us/step - loss: 0.6935 - val_loss: 0.6934\n",
      "Epoch 6/20\n",
      "60000/60000 [==============================] - 2s 41us/step - loss: 0.6933 - val_loss: 0.6933\n",
      "Epoch 7/20\n",
      "60000/60000 [==============================] - 2s 40us/step - loss: 0.6932 - val_loss: 0.6931\n",
      "Epoch 8/20\n",
      "60000/60000 [==============================] - 2s 39us/step - loss: 0.6930 - val_loss: 0.6929\n",
      "Epoch 9/20\n",
      "60000/60000 [==============================] - 3s 44us/step - loss: 0.6928 - val_loss: 0.6928\n",
      "Epoch 10/20\n",
      "60000/60000 [==============================] - 2s 40us/step - loss: 0.6927 - val_loss: 0.6926\n",
      "Epoch 11/20\n",
      "60000/60000 [==============================] - 2s 40us/step - loss: 0.6925 - val_loss: 0.6925\n",
      "Epoch 12/20\n",
      "60000/60000 [==============================] - 2s 38us/step - loss: 0.6924 - val_loss: 0.6923\n",
      "Epoch 13/20\n",
      "60000/60000 [==============================] - 2s 39us/step - loss: 0.6922 - val_loss: 0.6922\n",
      "Epoch 14/20\n",
      "60000/60000 [==============================] - 2s 41us/step - loss: 0.6921 - val_loss: 0.6920\n",
      "Epoch 15/20\n",
      "60000/60000 [==============================] - 3s 43us/step - loss: 0.6919 - val_loss: 0.6919\n",
      "Epoch 16/20\n",
      "60000/60000 [==============================] - 2s 40us/step - loss: 0.6918 - val_loss: 0.6917\n",
      "Epoch 17/20\n",
      "60000/60000 [==============================] - 2s 39us/step - loss: 0.6916 - val_loss: 0.6916\n",
      "Epoch 18/20\n",
      "60000/60000 [==============================] - 2s 40us/step - loss: 0.6915 - val_loss: 0.6914\n",
      "Epoch 19/20\n",
      "60000/60000 [==============================] - 2s 41us/step - loss: 0.6913 - val_loss: 0.6913\n",
      "Epoch 20/20\n",
      "60000/60000 [==============================] - 2s 39us/step - loss: 0.6912 - val_loss: 0.6911\n"
     ]
    },
    {
     "data": {
      "text/plain": [
       "<keras.callbacks.callbacks.History at 0x1a98756cc48>"
      ]
     },
     "execution_count": 8,
     "metadata": {},
     "output_type": "execute_result"
    }
   ],
   "source": [
    "autoencoder.fit(x_train, x_train,\n",
    "                epochs=20,\n",
    "                batch_size=256,\n",
    "                shuffle=True,\n",
    "                validation_data=(x_test, x_test))"
   ]
  },
  {
   "cell_type": "code",
   "execution_count": 9,
   "metadata": {
    "colab": {},
    "colab_type": "code",
    "id": "nri6BNhO0Wu9"
   },
   "outputs": [],
   "source": [
    "# encode and decode some digits\n",
    "# note that we take them from the *test* set\n",
    "encoded_imgs = encoder.predict(x_test)\n",
    "decoded_imgs = decoder.predict(encoded_imgs)"
   ]
  },
  {
   "cell_type": "code",
   "execution_count": 10,
   "metadata": {},
   "outputs": [
    {
     "data": {
      "text/plain": [
       "(32,)"
      ]
     },
     "execution_count": 10,
     "metadata": {},
     "output_type": "execute_result"
    }
   ],
   "source": [
    "encoded_imgs[0].shape"
   ]
  },
  {
   "cell_type": "code",
   "execution_count": 11,
   "metadata": {},
   "outputs": [
    {
     "data": {
      "text/plain": [
       "(784,)"
      ]
     },
     "execution_count": 11,
     "metadata": {},
     "output_type": "execute_result"
    }
   ],
   "source": [
    "decoded_imgs[0].shape"
   ]
  },
  {
   "cell_type": "code",
   "execution_count": 12,
   "metadata": {
    "colab": {
     "base_uri": "https://localhost:8080/",
     "height": 264
    },
    "colab_type": "code",
    "executionInfo": {
     "elapsed": 1700,
     "status": "ok",
     "timestamp": 1536049400856,
     "user": {
      "displayName": "Shahar Cohen",
      "photoUrl": "//lh4.googleusercontent.com/-2U_qQryj6xw/AAAAAAAAAAI/AAAAAAAAADQ/MGjwPY42BgU/s50-c-k-no/photo.jpg",
      "userId": "114907857355936904602"
     },
     "user_tz": -180
    },
    "id": "Hu3MutXD1hyH",
    "outputId": "c02f7d52-d9c5-45c3-ecd0-d5dff7e6c374"
   },
   "outputs": [
    {
     "name": "stderr",
     "output_type": "stream",
     "text": [
      "In C:\\ProgramData\\Anaconda3\\lib\\site-packages\\matplotlib\\mpl-data\\stylelib\\_classic_test.mplstyle: \n",
      "The text.latex.preview rcparam was deprecated in Matplotlib 3.3 and will be removed two minor releases later.\n",
      "In C:\\ProgramData\\Anaconda3\\lib\\site-packages\\matplotlib\\mpl-data\\stylelib\\_classic_test.mplstyle: \n",
      "The mathtext.fallback_to_cm rcparam was deprecated in Matplotlib 3.3 and will be removed two minor releases later.\n",
      "In C:\\ProgramData\\Anaconda3\\lib\\site-packages\\matplotlib\\mpl-data\\stylelib\\_classic_test.mplstyle: Support for setting the 'mathtext.fallback_to_cm' rcParam is deprecated since 3.3 and will be removed two minor releases later; use 'mathtext.fallback : 'cm' instead.\n",
      "In C:\\ProgramData\\Anaconda3\\lib\\site-packages\\matplotlib\\mpl-data\\stylelib\\_classic_test.mplstyle: \n",
      "The validate_bool_maybe_none function was deprecated in Matplotlib 3.3 and will be removed two minor releases later.\n",
      "In C:\\ProgramData\\Anaconda3\\lib\\site-packages\\matplotlib\\mpl-data\\stylelib\\_classic_test.mplstyle: \n",
      "The savefig.jpeg_quality rcparam was deprecated in Matplotlib 3.3 and will be removed two minor releases later.\n",
      "In C:\\ProgramData\\Anaconda3\\lib\\site-packages\\matplotlib\\mpl-data\\stylelib\\_classic_test.mplstyle: \n",
      "The keymap.all_axes rcparam was deprecated in Matplotlib 3.3 and will be removed two minor releases later.\n",
      "In C:\\ProgramData\\Anaconda3\\lib\\site-packages\\matplotlib\\mpl-data\\stylelib\\_classic_test.mplstyle: \n",
      "The animation.avconv_path rcparam was deprecated in Matplotlib 3.3 and will be removed two minor releases later.\n",
      "In C:\\ProgramData\\Anaconda3\\lib\\site-packages\\matplotlib\\mpl-data\\stylelib\\_classic_test.mplstyle: \n",
      "The animation.avconv_args rcparam was deprecated in Matplotlib 3.3 and will be removed two minor releases later.\n"
     ]
    },
    {
     "data": {
      "image/png": "[encoded data removed]",
      "text/plain": [
       "<Figure size 1440x288 with 20 Axes>"
      ]
     },
     "metadata": {
      "needs_background": "light"
     },
     "output_type": "display_data"
    }
   ],
   "source": [
    "# use Matplotlib\n",
    "import matplotlib.pyplot as plt\n",
    "%matplotlib inline \n",
    "\n",
    "n = 10  # how many digits we will display\n",
    "plt.figure(figsize=(20, 4))\n",
    "for i in range(n):\n",
    "    # display original\n",
    "    ax = plt.subplot(2, n, i + 1)\n",
    "    plt.imshow(x_test[i].reshape(28, 28))\n",
    "    plt.gray()\n",
    "    ax.get_xaxis().set_visible(False)\n",
    "    ax.get_yaxis().set_visible(False)\n",
    "\n",
    "    # display reconstruction\n",
    "    ax = plt.subplot(2, n, i + 1 + n)\n",
    "    plt.imshow(decoded_imgs[i].reshape(28, 28))\n",
    "    plt.gray()\n",
    "    ax.get_xaxis().set_visible(False)\n",
    "    ax.get_yaxis().set_visible(False)\n",
    "plt.show()"
   ]
  },
  {
   "cell_type": "markdown",
   "metadata": {
    "colab_type": "text",
    "id": "XzHxZP1H1zTF"
   },
   "source": [
    "## Deep autoencoder\n",
    "Instead of using only 1 hidden layer we will use more in order to capture a more HL concepts."
   ]
  },
  {
   "cell_type": "code",
   "execution_count": 13,
   "metadata": {
    "colab": {
     "base_uri": "https://localhost:8080/",
     "height": 374
    },
    "colab_type": "code",
    "executionInfo": {
     "elapsed": 597,
     "status": "ok",
     "timestamp": 1536049529513,
     "user": {
      "displayName": "Shahar Cohen",
      "photoUrl": "//lh4.googleusercontent.com/-2U_qQryj6xw/AAAAAAAAAAI/AAAAAAAAADQ/MGjwPY42BgU/s50-c-k-no/photo.jpg",
      "userId": "114907857355936904602"
     },
     "user_tz": -180
    },
    "id": "sQVEsBAp1x2u",
    "outputId": "80238d16-fb67-453c-f8d2-97e8eb96e13e"
   },
   "outputs": [
    {
     "name": "stdout",
     "output_type": "stream",
     "text": [
      "Model: \"model_4\"\n",
      "_________________________________________________________________\n",
      "Layer (type)                 Output Shape              Param #   \n",
      "=================================================================\n",
      "input_3 (InputLayer)         (None, 784)               0         \n",
      "_________________________________________________________________\n",
      "dense_3 (Dense)              (None, 128)               100480    \n",
      "_________________________________________________________________\n",
      "dense_4 (Dense)              (None, 64)                8256      \n",
      "_________________________________________________________________\n",
      "dense_5 (Dense)              (None, 32)                2080      \n",
      "_________________________________________________________________\n",
      "dense_6 (Dense)              (None, 64)                2112      \n",
      "_________________________________________________________________\n",
      "dense_7 (Dense)              (None, 128)               8320      \n",
      "_________________________________________________________________\n",
      "dense_8 (Dense)              (None, 784)               101136    \n",
      "=================================================================\n",
      "Total params: 222,384\n",
      "Trainable params: 222,384\n",
      "Non-trainable params: 0\n",
      "_________________________________________________________________\n"
     ]
    }
   ],
   "source": [
    "input_img = Input(shape=(784,))\n",
    "encoded = Dense(128, activation='relu')(input_img)\n",
    "encoded = Dense(64, activation='relu')(encoded)\n",
    "encoded = Dense(32, activation='relu')(encoded)\n",
    "\n",
    "decoded = Dense(64, activation='relu')(encoded)\n",
    "decoded = Dense(128, activation='relu')(decoded)\n",
    "decoded = Dense(784, activation='sigmoid')(decoded)\n",
    "\n",
    "autoencoder = Model(input_img, decoded)\n",
    "autoencoder.compile(optimizer='adadelta', loss='binary_crossentropy')\n",
    "\n",
    "autoencoder.summary()"
   ]
  },
  {
   "cell_type": "code",
   "execution_count": 14,
   "metadata": {
    "colab": {
     "base_uri": "https://localhost:8080/",
     "height": 731
    },
    "colab_type": "code",
    "executionInfo": {
     "elapsed": 61216,
     "status": "ok",
     "timestamp": 1536049596990,
     "user": {
      "displayName": "Shahar Cohen",
      "photoUrl": "//lh4.googleusercontent.com/-2U_qQryj6xw/AAAAAAAAAAI/AAAAAAAAADQ/MGjwPY42BgU/s50-c-k-no/photo.jpg",
      "userId": "114907857355936904602"
     },
     "user_tz": -180
    },
    "id": "tAGFb4A_2N9_",
    "outputId": "a6fb8ada-d1f5-4c05-aab3-bf8e4bf74d5a"
   },
   "outputs": [
    {
     "name": "stdout",
     "output_type": "stream",
     "text": [
      "Train on 60000 samples, validate on 10000 samples\n",
      "Epoch 1/20\n",
      "60000/60000 [==============================] - 4s 63us/step - loss: 0.6931 - val_loss: 0.6931\n",
      "Epoch 2/20\n",
      "60000/60000 [==============================] - 4s 61us/step - loss: 0.6931 - val_loss: 0.6930\n",
      "Epoch 3/20\n",
      "60000/60000 [==============================] - 4s 62us/step - loss: 0.6930 - val_loss: 0.6929\n",
      "Epoch 4/20\n",
      "60000/60000 [==============================] - 4s 64us/step - loss: 0.6929 - val_loss: 0.6929\n",
      "Epoch 5/20\n",
      "60000/60000 [==============================] - 4s 65us/step - loss: 0.6928 - val_loss: 0.6928\n",
      "Epoch 6/20\n",
      "60000/60000 [==============================] - 4s 71us/step - loss: 0.6928 - val_loss: 0.6927\n",
      "Epoch 7/20\n",
      "60000/60000 [==============================] - 4s 71us/step - loss: 0.6927 - val_loss: 0.6927\n",
      "Epoch 8/20\n",
      "60000/60000 [==============================] - 4s 73us/step - loss: 0.6926 - val_loss: 0.6926\n",
      "Epoch 9/20\n",
      "60000/60000 [==============================] - 4s 72us/step - loss: 0.6926 - val_loss: 0.6925\n",
      "Epoch 10/20\n",
      "60000/60000 [==============================] - 4s 67us/step - loss: 0.6925 - val_loss: 0.6924\n",
      "Epoch 11/20\n",
      "60000/60000 [==============================] - 4s 63us/step - loss: 0.6924 - val_loss: 0.6924\n",
      "Epoch 12/20\n",
      "60000/60000 [==============================] - 4s 64us/step - loss: 0.6923 - val_loss: 0.6923\n",
      "Epoch 13/20\n",
      "60000/60000 [==============================] - 4s 64us/step - loss: 0.6923 - val_loss: 0.6922\n",
      "Epoch 14/20\n",
      "60000/60000 [==============================] - 4s 63us/step - loss: 0.6922 - val_loss: 0.6922\n",
      "Epoch 15/20\n",
      "60000/60000 [==============================] - 4s 62us/step - loss: 0.6921 - val_loss: 0.6921\n",
      "Epoch 16/20\n",
      "60000/60000 [==============================] - 4s 68us/step - loss: 0.6921 - val_loss: 0.6920\n",
      "Epoch 17/20\n",
      "60000/60000 [==============================] - 4s 70us/step - loss: 0.6920 - val_loss: 0.6919\n",
      "Epoch 18/20\n",
      "60000/60000 [==============================] - 4s 72us/step - loss: 0.6919 - val_loss: 0.6919\n",
      "Epoch 19/20\n",
      "60000/60000 [==============================] - 4s 65us/step - loss: 0.6918 - val_loss: 0.6918\n",
      "Epoch 20/20\n",
      "60000/60000 [==============================] - 3s 50us/step - loss: 0.6918 - val_loss: 0.6917\n"
     ]
    },
    {
     "data": {
      "text/plain": [
       "<keras.callbacks.callbacks.History at 0x1a98a6a4f08>"
      ]
     },
     "execution_count": 14,
     "metadata": {},
     "output_type": "execute_result"
    }
   ],
   "source": [
    "autoencoder.fit(x_train, x_train,\n",
    "                epochs=20,\n",
    "                batch_size=256,\n",
    "                shuffle=True,\n",
    "                validation_data=(x_test, x_test))"
   ]
  },
  {
   "cell_type": "code",
   "execution_count": 15,
   "metadata": {
    "colab": {},
    "colab_type": "code",
    "id": "Y1zhHq3p2X_X"
   },
   "outputs": [],
   "source": [
    "# encode and decode some digits\n",
    "# note that we take them from the *test* set\n",
    "encoded_imgs = encoder.predict(x_test)\n",
    "decoded_imgs = decoder.predict(encoded_imgs)"
   ]
  },
  {
   "cell_type": "code",
   "execution_count": 16,
   "metadata": {
    "colab": {
     "base_uri": "https://localhost:8080/",
     "height": 264
    },
    "colab_type": "code",
    "executionInfo": {
     "elapsed": 1543,
     "status": "ok",
     "timestamp": 1536049619167,
     "user": {
      "displayName": "Shahar Cohen",
      "photoUrl": "//lh4.googleusercontent.com/-2U_qQryj6xw/AAAAAAAAAAI/AAAAAAAAADQ/MGjwPY42BgU/s50-c-k-no/photo.jpg",
      "userId": "114907857355936904602"
     },
     "user_tz": -180
    },
    "id": "7ZPf4zSJ2gMW",
    "outputId": "23456e1a-a399-46b8-caf8-dacf6e505210"
   },
   "outputs": [
    {
     "data": {
      "image/png": "[encoded data removed]",
      "text/plain": [
       "<Figure size 1440x288 with 20 Axes>"
      ]
     },
     "metadata": {
      "needs_background": "light"
     },
     "output_type": "display_data"
    }
   ],
   "source": [
    "# use Matplotlib (don't ask)\n",
    "import matplotlib.pyplot as plt\n",
    "\n",
    "n = 10  # how many digits we will display\n",
    "plt.figure(figsize=(20, 4))\n",
    "for i in range(n):\n",
    "    # display original\n",
    "    ax = plt.subplot(2, n, i + 1)\n",
    "    plt.imshow(x_test[i].reshape(28, 28))\n",
    "    plt.gray()\n",
    "    ax.get_xaxis().set_visible(False)\n",
    "    ax.get_yaxis().set_visible(False)\n",
    "\n",
    "    # display reconstruction\n",
    "    ax = plt.subplot(2, n, i + 1 + n)\n",
    "    plt.imshow(decoded_imgs[i].reshape(28, 28))\n",
    "    plt.gray()\n",
    "    ax.get_xaxis().set_visible(False)\n",
    "    ax.get_yaxis().set_visible(False)\n",
    "plt.show()"
   ]
  },
  {
   "cell_type": "markdown",
   "metadata": {
    "colab_type": "text",
    "id": "dduBVN51hcTY"
   },
   "source": [
    "## CNN-Based Autoencoder"
   ]
  },
  {
   "cell_type": "code",
   "execution_count": 17,
   "metadata": {
    "colab": {
     "base_uri": "https://localhost:8080/",
     "height": 612
    },
    "colab_type": "code",
    "executionInfo": {
     "elapsed": 643,
     "status": "ok",
     "timestamp": 1536049743161,
     "user": {
      "displayName": "Shahar Cohen",
      "photoUrl": "//lh4.googleusercontent.com/-2U_qQryj6xw/AAAAAAAAAAI/AAAAAAAAADQ/MGjwPY42BgU/s50-c-k-no/photo.jpg",
      "userId": "114907857355936904602"
     },
     "user_tz": -180
    },
    "id": "ErymvDkHhrhA",
    "outputId": "15fc0182-d138-4805-b4d3-0847b9033dec"
   },
   "outputs": [
    {
     "name": "stdout",
     "output_type": "stream",
     "text": [
      "WARNING:tensorflow:From C:\\ProgramData\\Anaconda3\\lib\\site-packages\\keras\\backend\\tensorflow_backend.py:4070: The name tf.nn.max_pool is deprecated. Please use tf.nn.max_pool2d instead.\n",
      "\n",
      "Model: \"model_5\"\n",
      "_________________________________________________________________\n",
      "Layer (type)                 Output Shape              Param #   \n",
      "=================================================================\n",
      "input_4 (InputLayer)         (None, 28, 28, 1)         0         \n",
      "_________________________________________________________________\n",
      "conv2d_1 (Conv2D)            (None, 28, 28, 16)        160       \n",
      "_________________________________________________________________\n",
      "max_pooling2d_1 (MaxPooling2 (None, 14, 14, 16)        0         \n",
      "_________________________________________________________________\n",
      "conv2d_2 (Conv2D)            (None, 14, 14, 8)         1160      \n",
      "_________________________________________________________________\n",
      "max_pooling2d_2 (MaxPooling2 (None, 7, 7, 8)           0         \n",
      "_________________________________________________________________\n",
      "conv2d_3 (Conv2D)            (None, 7, 7, 8)           584       \n",
      "_________________________________________________________________\n",
      "max_pooling2d_3 (MaxPooling2 (None, 4, 4, 8)           0         \n",
      "_________________________________________________________________\n",
      "conv2d_4 (Conv2D)            (None, 4, 4, 8)           584       \n",
      "_________________________________________________________________\n",
      "up_sampling2d_1 (UpSampling2 (None, 8, 8, 8)           0         \n",
      "_________________________________________________________________\n",
      "conv2d_5 (Conv2D)            (None, 8, 8, 8)           584       \n",
      "_________________________________________________________________\n",
      "up_sampling2d_2 (UpSampling2 (None, 16, 16, 8)         0         \n",
      "_________________________________________________________________\n",
      "conv2d_6 (Conv2D)            (None, 14, 14, 16)        1168      \n",
      "_________________________________________________________________\n",
      "up_sampling2d_3 (UpSampling2 (None, 28, 28, 16)        0         \n",
      "_________________________________________________________________\n",
      "conv2d_7 (Conv2D)            (None, 28, 28, 1)         145       \n",
      "=================================================================\n",
      "Total params: 4,385\n",
      "Trainable params: 4,385\n",
      "Non-trainable params: 0\n",
      "_________________________________________________________________\n"
     ]
    }
   ],
   "source": [
    "from keras.layers import Input, Dense, Conv2D, MaxPooling2D, UpSampling2D\n",
    "from keras.models import Model\n",
    "from keras import backend as K\n",
    "\n",
    "input_img = Input(shape=(28, 28, 1)) \n",
    "\n",
    "x = Conv2D(16, (3, 3), activation='relu', padding='same')(input_img)\n",
    "x = MaxPooling2D((2, 2), padding='same')(x)\n",
    "x = Conv2D(8, (3, 3), activation='relu', padding='same')(x)\n",
    "x = MaxPooling2D((2, 2), padding='same')(x)\n",
    "x = Conv2D(8, (3, 3), activation='relu', padding='same')(x)\n",
    "encoded = MaxPooling2D((2, 2), padding='same')(x)\n",
    "\n",
    "# at this point the representation is (4, 4, 8) i.e. 128-dimensional\n",
    "\n",
    "x = Conv2D(8, (3, 3), activation='relu', padding='same')(encoded)\n",
    "x = UpSampling2D((2, 2))(x)\n",
    "x = Conv2D(8, (3, 3), activation='relu', padding='same')(x)\n",
    "x = UpSampling2D((2, 2))(x)\n",
    "x = Conv2D(16, (3, 3), activation='relu')(x)\n",
    "x = UpSampling2D((2, 2))(x)\n",
    "decoded = Conv2D(1, (3, 3), activation='sigmoid', padding='same')(x)\n",
    "\n",
    "autoencoder = Model(input_img, decoded)\n",
    "autoencoder.compile(optimizer='adadelta', loss='binary_crossentropy')\n",
    "\n",
    "autoencoder.summary()"
   ]
  },
  {
   "cell_type": "markdown",
   "metadata": {
    "colab_type": "text",
    "id": "NUB9HaySiqmo"
   },
   "source": [
    "Let us re-load the data in the right form"
   ]
  },
  {
   "cell_type": "code",
   "execution_count": 18,
   "metadata": {
    "colab": {},
    "colab_type": "code",
    "id": "x0cGutNfit4n"
   },
   "outputs": [],
   "source": [
    "from keras.datasets import mnist\n",
    "import numpy as np\n",
    "\n",
    "(x_train, _), (x_test, _) = mnist.load_data()\n",
    "\n",
    "x_train = x_train.astype('float32') / 255.\n",
    "x_test = x_test.astype('float32') / 255.\n",
    "x_train = np.reshape(x_train, (len(x_train), 28, 28, 1)) \n",
    "x_test = np.reshape(x_test, (len(x_test), 28, 28, 1)) "
   ]
  },
  {
   "cell_type": "code",
   "execution_count": 19,
   "metadata": {
    "colab": {
     "base_uri": "https://localhost:8080/",
     "height": 731
    },
    "colab_type": "code",
    "executionInfo": {
     "elapsed": 168209,
     "status": "ok",
     "timestamp": 1536049943250,
     "user": {
      "displayName": "Shahar Cohen",
      "photoUrl": "//lh4.googleusercontent.com/-2U_qQryj6xw/AAAAAAAAAAI/AAAAAAAAADQ/MGjwPY42BgU/s50-c-k-no/photo.jpg",
      "userId": "114907857355936904602"
     },
     "user_tz": -180
    },
    "id": "S6_VaB5UiWLQ",
    "outputId": "88a455e4-52d2-49fe-b2a5-368f1f856846"
   },
   "outputs": [
    {
     "name": "stdout",
     "output_type": "stream",
     "text": [
      "Train on 60000 samples, validate on 10000 samples\n",
      "Epoch 1/20\n",
      "60000/60000 [==============================] - 109s 2ms/step - loss: 0.6926 - val_loss: 0.6908\n",
      "Epoch 2/20\n",
      "60000/60000 [==============================] - 121s 2ms/step - loss: 0.6885 - val_loss: 0.6857\n",
      "Epoch 3/20\n",
      "60000/60000 [==============================] - 124s 2ms/step - loss: 0.6817 - val_loss: 0.6766\n",
      "Epoch 4/20\n",
      "60000/60000 [==============================] - 124s 2ms/step - loss: 0.6674 - val_loss: 0.6549\n",
      "Epoch 5/20\n",
      "60000/60000 [==============================] - 125s 2ms/step - loss: 0.6263 - val_loss: 0.5841\n",
      "Epoch 6/20\n",
      "60000/60000 [==============================] - 128s 2ms/step - loss: 0.5246 - val_loss: 0.4895\n",
      "Epoch 7/20\n",
      "60000/60000 [==============================] - 127s 2ms/step - loss: 0.4790 - val_loss: 0.4769\n",
      "Epoch 8/20\n",
      "60000/60000 [==============================] - 126s 2ms/step - loss: 0.4686 - val_loss: 0.4672\n",
      "Epoch 9/20\n",
      "60000/60000 [==============================] - 127s 2ms/step - loss: 0.4592 - val_loss: 0.4579\n",
      "Epoch 10/20\n",
      "60000/60000 [==============================] - 124s 2ms/step - loss: 0.4500 - val_loss: 0.4487\n",
      "Epoch 11/20\n",
      "60000/60000 [==============================] - 127s 2ms/step - loss: 0.4407 - val_loss: 0.4391\n",
      "Epoch 12/20\n",
      "60000/60000 [==============================] - 129s 2ms/step - loss: 0.4306 - val_loss: 0.4283\n",
      "Epoch 13/20\n",
      "60000/60000 [==============================] - 131s 2ms/step - loss: 0.4193 - val_loss: 0.4164\n",
      "Epoch 14/20\n",
      "60000/60000 [==============================] - 131s 2ms/step - loss: 0.4073 - val_loss: 0.4042\n",
      "Epoch 15/20\n",
      "60000/60000 [==============================] - 131s 2ms/step - loss: 0.3950 - val_loss: 0.3919\n",
      "Epoch 16/20\n",
      "60000/60000 [==============================] - 131s 2ms/step - loss: 0.3831 - val_loss: 0.3802\n",
      "Epoch 17/20\n",
      "60000/60000 [==============================] - 131s 2ms/step - loss: 0.3718 - val_loss: 0.3690\n",
      "Epoch 18/20\n",
      "60000/60000 [==============================] - 132s 2ms/step - loss: 0.3611 - val_loss: 0.3584\n",
      "Epoch 19/20\n",
      "60000/60000 [==============================] - 131s 2ms/step - loss: 0.3508 - val_loss: 0.3482\n",
      "Epoch 20/20\n",
      "60000/60000 [==============================] - 106s 2ms/step - loss: 0.3411 - val_loss: 0.3386\n"
     ]
    },
    {
     "data": {
      "text/plain": [
       "<keras.callbacks.callbacks.History at 0x1a98c950548>"
      ]
     },
     "execution_count": 19,
     "metadata": {},
     "output_type": "execute_result"
    }
   ],
   "source": [
    "autoencoder.fit(x_train, x_train,\n",
    "                epochs=20,\n",
    "                batch_size=128,\n",
    "                shuffle=True,\n",
    "                validation_data=(x_test, x_test))"
   ]
  },
  {
   "cell_type": "code",
   "execution_count": 20,
   "metadata": {
    "colab": {
     "base_uri": "https://localhost:8080/",
     "height": 264
    },
    "colab_type": "code",
    "executionInfo": {
     "elapsed": 2382,
     "status": "ok",
     "timestamp": 1536049951351,
     "user": {
      "displayName": "Shahar Cohen",
      "photoUrl": "//lh4.googleusercontent.com/-2U_qQryj6xw/AAAAAAAAAAI/AAAAAAAAADQ/MGjwPY42BgU/s50-c-k-no/photo.jpg",
      "userId": "114907857355936904602"
     },
     "user_tz": -180
    },
    "id": "MY-Ca89WlDT7",
    "outputId": "852a9b69-8738-413a-977a-1cdb1e92bd05"
   },
   "outputs": [
    {
     "data": {
      "image/png": "[encoded data removed]",
      "text/plain": [
       "<Figure size 1440x288 with 20 Axes>"
      ]
     },
     "metadata": {
      "needs_background": "light"
     },
     "output_type": "display_data"
    }
   ],
   "source": [
    "decoded_imgs = autoencoder.predict(x_test)\n",
    "\n",
    "n = 10\n",
    "plt.figure(figsize=(20, 4))\n",
    "for i in range(n):\n",
    "    # display original\n",
    "    ax = plt.subplot(2, n, i + 1)\n",
    "    plt.imshow(x_test[i].reshape(28, 28))\n",
    "    plt.gray()\n",
    "    ax.get_xaxis().set_visible(False)\n",
    "    ax.get_yaxis().set_visible(False)\n",
    "\n",
    "    # display reconstruction\n",
    "    ax = plt.subplot(2, n, i + 1 + n)\n",
    "    plt.imshow(decoded_imgs[i].reshape(28, 28))\n",
    "    plt.gray()\n",
    "    ax.get_xaxis().set_visible(False)\n",
    "    ax.get_yaxis().set_visible(False)\n",
    "plt.show()"
   ]
  },
  {
   "cell_type": "markdown",
   "metadata": {
    "colab_type": "text",
    "id": "FuyMrKfHlNgn"
   },
   "source": [
    "## Autoencoders with Denoising\n",
    "This time, let's bring noisy images, and let's try to build an autoencoder that will seperate noise from signal.\n",
    "Here's how we will generate synthetic noisy digits: we just apply a gaussian noise matrix and clip the images between 0 and 1."
   ]
  },
  {
   "cell_type": "code",
   "execution_count": 21,
   "metadata": {
    "colab": {},
    "colab_type": "code",
    "id": "VINhHn9YlXqP"
   },
   "outputs": [],
   "source": [
    "from keras.datasets import mnist\n",
    "import numpy as np\n",
    "\n",
    "(x_train, _), (x_test, _) = mnist.load_data()\n",
    "\n",
    "x_train = x_train.astype('float32') / 255.\n",
    "x_test = x_test.astype('float32') / 255.\n",
    "x_train = np.reshape(x_train, (len(x_train), 28, 28, 1))  # adapt this if using `channels_first` image data format\n",
    "x_test = np.reshape(x_test, (len(x_test), 28, 28, 1))  # adapt this if using `channels_first` image data format\n",
    "\n",
    "noise_factor = 0.5\n",
    "x_train_noisy = x_train + noise_factor * np.random.normal(loc=0.0, scale=1.0, size=x_train.shape) \n",
    "x_test_noisy = x_test + noise_factor * np.random.normal(loc=0.0, scale=1.0, size=x_test.shape) \n",
    "\n",
    "x_train_noisy = np.clip(x_train_noisy, 0., 1.)\n",
    "x_test_noisy = np.clip(x_test_noisy, 0., 1.)"
   ]
  },
  {
   "cell_type": "markdown",
   "metadata": {
    "colab_type": "text",
    "id": "NTH7fvFgscZk"
   },
   "source": [
    "Plot the noisy images"
   ]
  },
  {
   "cell_type": "code",
   "execution_count": 22,
   "metadata": {
    "colab": {
     "base_uri": "https://localhost:8080/",
     "height": 145
    },
    "colab_type": "code",
    "executionInfo": {
     "elapsed": 1058,
     "status": "ok",
     "timestamp": 1536049991694,
     "user": {
      "displayName": "Shahar Cohen",
      "photoUrl": "//lh4.googleusercontent.com/-2U_qQryj6xw/AAAAAAAAAAI/AAAAAAAAADQ/MGjwPY42BgU/s50-c-k-no/photo.jpg",
      "userId": "114907857355936904602"
     },
     "user_tz": -180
    },
    "id": "wEkgunnllbmz",
    "outputId": "8884628a-b218-40c0-e936-18b818523c22"
   },
   "outputs": [
    {
     "data": {
      "image/png": "[encoded data removed]",
      "text/plain": [
       "<Figure size 1440x144 with 10 Axes>"
      ]
     },
     "metadata": {
      "needs_background": "light"
     },
     "output_type": "display_data"
    }
   ],
   "source": [
    "import matplotlib.pyplot as plt\n",
    "%matplotlib inline\n",
    "n = 10\n",
    "plt.figure(figsize=(20, 2))\n",
    "for i in range(1,n+1):\n",
    "    ax = plt.subplot(1, n, i)\n",
    "    plt.imshow(x_test_noisy[i].reshape(28, 28))\n",
    "    plt.gray()\n",
    "    ax.get_xaxis().set_visible(False)\n",
    "    ax.get_yaxis().set_visible(False)\n",
    "plt.show()"
   ]
  },
  {
   "cell_type": "markdown",
   "metadata": {
    "colab_type": "text",
    "id": "apQsCCrRlibP"
   },
   "source": [
    "much more noisy now. Let's see what our autoencoder will do"
   ]
  },
  {
   "cell_type": "code",
   "execution_count": 23,
   "metadata": {
    "colab": {},
    "colab_type": "code",
    "id": "UDqGkFQ5lmz6"
   },
   "outputs": [],
   "source": [
    "from keras.layers import Input, Dense, Conv2D, MaxPooling2D, UpSampling2D\n",
    "from keras.models import Model\n",
    "from keras import backend as K\n",
    "\n",
    "\n",
    "input_img = Input(shape=(28, 28, 1))  # adapt this if using `channels_first` image data format\n",
    "\n",
    "x = Conv2D(32, (3, 3), activation='relu', padding='same')(input_img)\n",
    "x = MaxPooling2D((2, 2), padding='same')(x)\n",
    "x = Conv2D(32, (3, 3), activation='relu', padding='same')(x)\n",
    "encoded = MaxPooling2D((2, 2), padding='same')(x)\n",
    "\n",
    "# at this point the representation is (7, 7, 32)\n",
    "\n",
    "x = Conv2D(32, (3, 3), activation='relu', padding='same')(encoded)\n",
    "x = UpSampling2D((2, 2))(x)\n",
    "x = Conv2D(32, (3, 3), activation='relu', padding='same')(x)\n",
    "x = UpSampling2D((2, 2))(x)\n",
    "decoded = Conv2D(1, (3, 3), activation='sigmoid', padding='same')(x)\n",
    "\n",
    "autoencoder = Model(input_img, decoded)\n",
    "autoencoder.compile(optimizer='adadelta', loss='binary_crossentropy')"
   ]
  },
  {
   "cell_type": "code",
   "execution_count": 24,
   "metadata": {
    "colab": {
     "base_uri": "https://localhost:8080/",
     "height": 731
    },
    "colab_type": "code",
    "executionInfo": {
     "elapsed": 171305,
     "status": "ok",
     "timestamp": 1536050240813,
     "user": {
      "displayName": "Shahar Cohen",
      "photoUrl": "//lh4.googleusercontent.com/-2U_qQryj6xw/AAAAAAAAAAI/AAAAAAAAADQ/MGjwPY42BgU/s50-c-k-no/photo.jpg",
      "userId": "114907857355936904602"
     },
     "user_tz": -180
    },
    "id": "pUdOMhB-lqrn",
    "outputId": "3ad7e5d7-008d-499c-eb22-c353a321a524"
   },
   "outputs": [
    {
     "name": "stdout",
     "output_type": "stream",
     "text": [
      "Train on 60000 samples, validate on 10000 samples\n",
      "Epoch 1/20\n",
      "60000/60000 [==============================] - 179s 3ms/step - loss: 0.6659 - val_loss: 0.6479\n",
      "Epoch 2/20\n",
      "60000/60000 [==============================] - 243s 4ms/step - loss: 0.6219 - val_loss: 0.5940\n",
      "Epoch 3/20\n",
      "60000/60000 [==============================] - 284s 5ms/step - loss: 0.5608 - val_loss: 0.5350\n",
      "Epoch 4/20\n",
      "60000/60000 [==============================] - 232s 4ms/step - loss: 0.5193 - val_loss: 0.5151\n",
      "Epoch 5/20\n",
      "60000/60000 [==============================] - 248s 4ms/step - loss: 0.5078 - val_loss: 0.5082\n",
      "Epoch 6/20\n",
      "60000/60000 [==============================] - 205s 3ms/step - loss: 0.5010 - val_loss: 0.5013\n",
      "Epoch 7/20\n",
      "60000/60000 [==============================] - 196s 3ms/step - loss: 0.4940 - val_loss: 0.4940\n",
      "Epoch 8/20\n",
      "60000/60000 [==============================] - 201s 3ms/step - loss: 0.4864 - val_loss: 0.4860\n",
      "Epoch 9/20\n",
      "60000/60000 [==============================] - 220s 4ms/step - loss: 0.4780 - val_loss: 0.4770\n",
      "Epoch 10/20\n",
      "60000/60000 [==============================] - 238s 4ms/step - loss: 0.4684 - val_loss: 0.4666\n",
      "Epoch 11/20\n",
      "60000/60000 [==============================] - 251s 4ms/step - loss: 0.4576 - val_loss: 0.4550\n",
      "Epoch 12/20\n",
      "60000/60000 [==============================] - 156s 3ms/step - loss: 0.4453 - val_loss: 0.4416\n",
      "Epoch 13/20\n",
      "60000/60000 [==============================] - 150s 3ms/step - loss: 0.4307 - val_loss: 0.4251\n",
      "Epoch 14/20\n",
      "60000/60000 [==============================] - 155s 3ms/step - loss: 0.4126 - val_loss: 0.4047\n",
      "Epoch 15/20\n",
      "60000/60000 [==============================] - 152s 3ms/step - loss: 0.3901 - val_loss: 0.3793\n",
      "Epoch 16/20\n",
      "60000/60000 [==============================] - 166s 3ms/step - loss: 0.3629 - val_loss: 0.3499\n",
      "Epoch 17/20\n",
      "60000/60000 [==============================] - 149s 2ms/step - loss: 0.3331 - val_loss: 0.3191\n",
      "Epoch 18/20\n",
      "60000/60000 [==============================] - 161s 3ms/step - loss: 0.3036 - val_loss: 0.2908\n",
      "Epoch 19/20\n",
      "60000/60000 [==============================] - 156s 3ms/step - loss: 0.2780 - val_loss: 0.2674\n",
      "Epoch 20/20\n",
      "60000/60000 [==============================] - 163s 3ms/step - loss: 0.2578 - val_loss: 0.2496\n"
     ]
    },
    {
     "data": {
      "text/plain": [
       "<keras.callbacks.callbacks.History at 0x1a98a1cc848>"
      ]
     },
     "execution_count": 24,
     "metadata": {},
     "output_type": "execute_result"
    }
   ],
   "source": [
    "autoencoder.fit(x_train_noisy, x_train,\n",
    "                epochs=20,\n",
    "                batch_size=128,\n",
    "                shuffle=True,\n",
    "                validation_data=(x_test_noisy, x_test))"
   ]
  },
  {
   "cell_type": "code",
   "execution_count": 25,
   "metadata": {
    "colab": {
     "base_uri": "https://localhost:8080/",
     "height": 264
    },
    "colab_type": "code",
    "executionInfo": {
     "elapsed": 2574,
     "status": "ok",
     "timestamp": 1536050249451,
     "user": {
      "displayName": "Shahar Cohen",
      "photoUrl": "//lh4.googleusercontent.com/-2U_qQryj6xw/AAAAAAAAAAI/AAAAAAAAADQ/MGjwPY42BgU/s50-c-k-no/photo.jpg",
      "userId": "114907857355936904602"
     },
     "user_tz": -180
    },
    "id": "8X9KWZZMmZuJ",
    "outputId": "01216e25-1445-4724-d897-2061561f94a4"
   },
   "outputs": [
    {
     "data": {
      "image/png": "[encoded data removed]",
      "text/plain": [
       "<Figure size 1440x288 with 20 Axes>"
      ]
     },
     "metadata": {
      "needs_background": "light"
     },
     "output_type": "display_data"
    }
   ],
   "source": [
    "decoded_imgs = autoencoder.predict(x_test_noisy)\n",
    "\n",
    "n = 10\n",
    "plt.figure(figsize=(20, 4))\n",
    "for i in range(1,n+1):\n",
    "    # display original\n",
    "    ax = plt.subplot(2, n, i )\n",
    "    plt.imshow(x_test_noisy[i].reshape(28, 28))\n",
    "    plt.gray()\n",
    "    ax.get_xaxis().set_visible(False)\n",
    "    ax.get_yaxis().set_visible(False)\n",
    "\n",
    "    # display reconstruction\n",
    "    ax = plt.subplot(2, n, i + n)\n",
    "    plt.imshow(decoded_imgs[i].reshape(28, 28))\n",
    "    plt.gray()\n",
    "    ax.get_xaxis().set_visible(False)\n",
    "    ax.get_yaxis().set_visible(False)\n",
    "plt.show()"
   ]
  }
 ],
 "metadata": {
  "accelerator": "GPU",
  "colab": {
   "collapsed_sections": [],
   "name": "Autoencoders.ipynb",
   "provenance": [],
   "version": "0.3.2"
  },
  "kernelspec": {
   "display_name": "Python 3",
   "language": "python",
   "name": "python3"
  },
  "language_info": {
   "codemirror_mode": {
    "name": "ipython",
    "version": 3
   },
   "file_extension": ".py",
   "mimetype": "text/x-python",
   "name": "python",
   "nbconvert_exporter": "python",
   "pygments_lexer": "ipython3",
   "version": "3.7.4"
  }
 },
 "nbformat": 4,
 "nbformat_minor": 1
}
